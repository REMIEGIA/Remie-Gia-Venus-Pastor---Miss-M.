{
  "nbformat": 4,
  "nbformat_minor": 0,
  "metadata": {
    "colab": {
      "name": "MIDTERM.ipynb",
      "provenance": [],
      "collapsed_sections": [],
      "authorship_tag": "ABX9TyPc3XZqVzoy+PjtBAgX3pUB",
      "include_colab_link": true
    },
    "kernelspec": {
      "name": "python3",
      "display_name": "Python 3"
    },
    "language_info": {
      "name": "python"
    }
  },
  "cells": [
    {
      "cell_type": "markdown",
      "metadata": {
        "id": "view-in-github",
        "colab_type": "text"
      },
      "source": [
        "<a href=\"https://colab.research.google.com/github/REMIEGIA/Remie-Gia-Venus-Pastor---Miss-M./blob/Miss-Evernight/MIDTERM.ipynb\" target=\"_parent\"><img src=\"https://colab.research.google.com/assets/colab-badge.svg\" alt=\"Open In Colab\"/></a>"
      ]
    },
    {
      "cell_type": "code",
      "metadata": {
        "colab": {
          "base_uri": "https://localhost:8080/"
        },
        "id": "en_THIDoMmDU",
        "outputId": "0947e1ac-a392-4a73-a9ab-7c51debe6d53"
      },
      "source": [
        "print (\"Welcome to this new world!\")"
      ],
      "execution_count": null,
      "outputs": [
        {
          "output_type": "stream",
          "name": "stdout",
          "text": [
            "Welcome to this new world!\n"
          ]
        }
      ]
    },
    {
      "cell_type": "code",
      "metadata": {
        "colab": {
          "base_uri": "https://localhost:8080/"
        },
        "id": "SCYXVUPoMymT",
        "outputId": "8acf7a8b-8fd5-4563-84c7-2e1d5f6245a5"
      },
      "source": [
        "x = input('Show me your money')\n",
        "print(\"Thank you for your money\" + x)"
      ],
      "execution_count": null,
      "outputs": [
        {
          "output_type": "stream",
          "name": "stdout",
          "text": [
            "Show me your money260\n",
            "Thank you for your money260\n"
          ]
        }
      ]
    },
    {
      "cell_type": "code",
      "metadata": {
        "colab": {
          "base_uri": "https://localhost:8080/"
        },
        "id": "4G5T8CgaNIWN",
        "outputId": "6f8b7a2c-d3a3-4549-cc4c-fa9fa9412cad"
      },
      "source": [
        "x = int (input(\"Show me your money\"))\n",
        "y = x + 349\n",
        "y"
      ],
      "execution_count": null,
      "outputs": [
        {
          "name": "stdout",
          "output_type": "stream",
          "text": [
            "Show me your money550\n"
          ]
        },
        {
          "output_type": "execute_result",
          "data": {
            "text/plain": [
              "899"
            ]
          },
          "metadata": {},
          "execution_count": 4
        }
      ]
    },
    {
      "cell_type": "code",
      "metadata": {
        "colab": {
          "base_uri": "https://localhost:8080/"
        },
        "id": "x1mNnJjgNSIC",
        "outputId": "f2158378-f4a1-48d7-e4e0-646fe49a5624"
      },
      "source": [
        "a,b = eval(input(\"Please input two digits:\"))"
      ],
      "execution_count": null,
      "outputs": [
        {
          "name": "stdout",
          "output_type": "stream",
          "text": [
            "Please input two digits:11, 18\n"
          ]
        }
      ]
    },
    {
      "cell_type": "code",
      "metadata": {
        "colab": {
          "base_uri": "https://localhost:8080/"
        },
        "id": "16aUW38jNZZT",
        "outputId": "83747666-68d7-4787-9aac-941ccc074101"
      },
      "source": [
        "a"
      ],
      "execution_count": null,
      "outputs": [
        {
          "output_type": "execute_result",
          "data": {
            "text/plain": [
              "11"
            ]
          },
          "metadata": {},
          "execution_count": 6
        }
      ]
    },
    {
      "cell_type": "code",
      "metadata": {
        "colab": {
          "base_uri": "https://localhost:8080/"
        },
        "id": "RrivKDfNNat9",
        "outputId": "47ffa93e-48f5-4135-a955-8328f3f02508"
      },
      "source": [
        "b"
      ],
      "execution_count": null,
      "outputs": [
        {
          "output_type": "execute_result",
          "data": {
            "text/plain": [
              "18"
            ]
          },
          "metadata": {},
          "execution_count": 7
        }
      ]
    },
    {
      "cell_type": "code",
      "metadata": {
        "colab": {
          "base_uri": "https://localhost:8080/"
        },
        "id": "TjCe70dnMfCO",
        "outputId": "0c0c425d-f0f4-4679-d9f2-83a3f906349d"
      },
      "source": [
        "a = 78\n",
        "b = 34\n",
        "if a > b:\n",
        "  print(\"a is greater than b\")"
      ],
      "execution_count": null,
      "outputs": [
        {
          "output_type": "stream",
          "name": "stdout",
          "text": [
            "a is greater than b\n"
          ]
        }
      ]
    },
    {
      "cell_type": "markdown",
      "metadata": {
        "id": "tC_wyP0pP8Xg"
      },
      "source": [
        "#Arithmetic Operators\n"
      ]
    },
    {
      "cell_type": "code",
      "metadata": {
        "colab": {
          "base_uri": "https://localhost:8080/"
        },
        "id": "GYi1kNnjP_nf",
        "outputId": "725f470f-986f-4aa7-d72a-d1acbddcb0e6"
      },
      "source": [
        "a = 23 / 4\n",
        "a"
      ],
      "execution_count": null,
      "outputs": [
        {
          "output_type": "execute_result",
          "data": {
            "text/plain": [
              "5.75"
            ]
          },
          "metadata": {},
          "execution_count": 9
        }
      ]
    },
    {
      "cell_type": "code",
      "metadata": {
        "colab": {
          "base_uri": "https://localhost:8080/"
        },
        "id": "qR8nMLe-QB4h",
        "outputId": "f8350784-9bbd-4e6d-d61f-cf7b7b510ae9"
      },
      "source": [
        "b = 23 // 4\n",
        "b"
      ],
      "execution_count": null,
      "outputs": [
        {
          "output_type": "execute_result",
          "data": {
            "text/plain": [
              "5"
            ]
          },
          "metadata": {},
          "execution_count": 10
        }
      ]
    },
    {
      "cell_type": "code",
      "metadata": {
        "colab": {
          "base_uri": "https://localhost:8080/"
        },
        "id": "c1KoWwzsQDvR",
        "outputId": "f70f3c8e-1733-4692-f30e-5f4dee5f3ed0"
      },
      "source": [
        "c = 23 % 4\n",
        "c"
      ],
      "execution_count": null,
      "outputs": [
        {
          "output_type": "execute_result",
          "data": {
            "text/plain": [
              "3"
            ]
          },
          "metadata": {},
          "execution_count": 11
        }
      ]
    },
    {
      "cell_type": "markdown",
      "metadata": {
        "id": "KfyqAlkxRkRz"
      },
      "source": [
        "#Logical Operations\n"
      ]
    },
    {
      "cell_type": "code",
      "metadata": {
        "colab": {
          "base_uri": "https://localhost:8080/"
        },
        "id": "zKi2CcMTRnLr",
        "outputId": "f1f9be81-4261-41c3-92b6-8a3969de392c"
      },
      "source": [
        "x = 12\n",
        "print(x > 7 and x < 19)"
      ],
      "execution_count": null,
      "outputs": [
        {
          "output_type": "stream",
          "name": "stdout",
          "text": [
            "True\n"
          ]
        }
      ]
    },
    {
      "cell_type": "code",
      "metadata": {
        "colab": {
          "base_uri": "https://localhost:8080/"
        },
        "id": "98Bdj8D5Rpbn",
        "outputId": "736dd0bf-3f79-43c4-cfa9-8431aced2c3b"
      },
      "source": [
        "x = 12\n",
        "print(x > 7 and x > 19)"
      ],
      "execution_count": null,
      "outputs": [
        {
          "output_type": "stream",
          "name": "stdout",
          "text": [
            "False\n"
          ]
        }
      ]
    },
    {
      "cell_type": "code",
      "metadata": {
        "id": "ay2jGvEpRr5C",
        "colab": {
          "base_uri": "https://localhost:8080/"
        },
        "outputId": "fbc08a6e-6bc2-4640-c82c-0a78e6469a8b"
      },
      "source": [
        "a = 67\n",
        "b = 67\n",
        "if a == b:\n",
        "  print(\"a is equal to b\")"
      ],
      "execution_count": 1,
      "outputs": [
        {
          "output_type": "stream",
          "name": "stdout",
          "text": [
            "a is equal to b\n"
          ]
        }
      ]
    },
    {
      "cell_type": "code",
      "metadata": {
        "colab": {
          "base_uri": "https://localhost:8080/"
        },
        "id": "kU5yxVHppdou",
        "outputId": "b254ae66-43f9-43f4-9c28-0860af34e297"
      },
      "source": [
        "a = 48\n",
        "b = 56\n",
        "if a < b:\n",
        "  print(\"a is less than b\")"
      ],
      "execution_count": 5,
      "outputs": [
        {
          "output_type": "stream",
          "name": "stdout",
          "text": [
            "a is less than b\n"
          ]
        }
      ]
    },
    {
      "cell_type": "code",
      "metadata": {
        "colab": {
          "base_uri": "https://localhost:8080/"
        },
        "id": "9FvChshyp4Cd",
        "outputId": "a7269c91-57f1-4fa4-fe33-b59786635b01"
      },
      "source": [
        "a = 134\n",
        "b = 97\n",
        "if a != b:\n",
        "  print(\"a is not equal to b\")"
      ],
      "execution_count": 6,
      "outputs": [
        {
          "output_type": "stream",
          "name": "stdout",
          "text": [
            "a is not equal to b\n"
          ]
        }
      ]
    },
    {
      "cell_type": "code",
      "metadata": {
        "colab": {
          "base_uri": "https://localhost:8080/"
        },
        "id": "jx4TW2xkqXoN",
        "outputId": "9a8c2b2c-fb22-42f4-bdb5-50805a1c143a"
      },
      "source": [
        "a = 43\n",
        "b = 43\n",
        "if a >= b:\n",
        "  print(\"a is greater than or equal to b\")"
      ],
      "execution_count": 7,
      "outputs": [
        {
          "output_type": "stream",
          "name": "stdout",
          "text": [
            "a is greater than or equal to b\n"
          ]
        }
      ]
    },
    {
      "cell_type": "code",
      "metadata": {
        "colab": {
          "base_uri": "https://localhost:8080/"
        },
        "id": "AhjgUZn3qr7l",
        "outputId": "f40e1ad9-db6c-49ec-f4b1-beefa6cf1e86"
      },
      "source": [
        "a = 51\n",
        "b = 51\n",
        "if a <= b:\n",
        "  print(\"a is less than equal to b\")"
      ],
      "execution_count": 8,
      "outputs": [
        {
          "output_type": "stream",
          "name": "stdout",
          "text": [
            "a is less than equal to b\n"
          ]
        }
      ]
    },
    {
      "cell_type": "code",
      "metadata": {
        "colab": {
          "base_uri": "https://localhost:8080/"
        },
        "id": "6ME8eJBhrCvD",
        "outputId": "93e5e7c4-0051-4549-beae-e76e34ad27d4"
      },
      "source": [
        "a = 569\n",
        "b = 569\n",
        "if a > b:\n",
        "  print(\"a is less than or equal to b\")\n",
        "elif a == b:\n",
        "  print(\"a and b are equal\")"
      ],
      "execution_count": 9,
      "outputs": [
        {
          "output_type": "stream",
          "name": "stdout",
          "text": [
            "a and b are equal\n"
          ]
        }
      ]
    },
    {
      "cell_type": "code",
      "metadata": {
        "colab": {
          "base_uri": "https://localhost:8080/"
        },
        "id": "9wQmuiEgrvp-",
        "outputId": "97a3cd7d-91b0-4283-c725-108466028b66"
      },
      "source": [
        "a = 278\n",
        "b = 73\n",
        "if a > b:\n",
        "  print(\"a is greater than b\")\n",
        "elif a == b:\n",
        "  print(\"a and b are equal\")\n",
        "else:\n",
        "  print(\"a is greater than b\")"
      ],
      "execution_count": 11,
      "outputs": [
        {
          "output_type": "stream",
          "name": "stdout",
          "text": [
            "a is greater than b\n"
          ]
        }
      ]
    },
    {
      "cell_type": "code",
      "metadata": {
        "colab": {
          "base_uri": "https://localhost:8080/"
        },
        "id": "ZLJIoaI6s1-R",
        "outputId": "738d7a8e-119a-4bb4-d50f-1950887b67ce"
      },
      "source": [
        "a = 29\n",
        "b = 69\n",
        "if b > a:\n",
        "  print(\"b is greater than a\")\n",
        "else:\n",
        "  print(\"b is not greater than a\")"
      ],
      "execution_count": 12,
      "outputs": [
        {
          "output_type": "stream",
          "name": "stdout",
          "text": [
            "b is greater than a\n"
          ]
        }
      ]
    },
    {
      "cell_type": "code",
      "metadata": {
        "colab": {
          "base_uri": "https://localhost:8080/"
        },
        "id": "aI69j81At5m1",
        "outputId": "edd00f0c-6881-4e0b-8b18-814532c48f6a"
      },
      "source": [
        "a = 6\n",
        "b = 33\n",
        "print(\"A\") if a < b else print(\"B\")"
      ],
      "execution_count": 19,
      "outputs": [
        {
          "output_type": "stream",
          "name": "stdout",
          "text": [
            "A\n"
          ]
        }
      ]
    },
    {
      "cell_type": "code",
      "metadata": {
        "colab": {
          "base_uri": "https://localhost:8080/"
        },
        "id": "JbQgeg_KuLz8",
        "outputId": "f62bdad7-79a7-48bf-d858-0fa2968b3b3e"
      },
      "source": [
        "a = 87\n",
        "b = 87\n",
        "print(\"A\") if a > b else print(\"=\") if a == b else print(\"B\")"
      ],
      "execution_count": 21,
      "outputs": [
        {
          "output_type": "stream",
          "name": "stdout",
          "text": [
            "=\n"
          ]
        }
      ]
    },
    {
      "cell_type": "code",
      "metadata": {
        "colab": {
          "base_uri": "https://localhost:8080/"
        },
        "id": "attRha5Tu1s-",
        "outputId": "c3c28b45-d3a4-4aab-c276-9a4e1353677e"
      },
      "source": [
        "a = 47\n",
        "b = 26\n",
        "c = 52\n",
        "if a > b and c > b:\n",
        "  print(\"Both Conditions are True\")"
      ],
      "execution_count": 22,
      "outputs": [
        {
          "output_type": "stream",
          "name": "stdout",
          "text": [
            "Both Conditions are True\n"
          ]
        }
      ]
    },
    {
      "cell_type": "code",
      "metadata": {
        "colab": {
          "base_uri": "https://localhost:8080/"
        },
        "id": "wXSzRLrEvOXw",
        "outputId": "94d0e2db-668d-4a9c-a911-21fd3e9f2f38"
      },
      "source": [
        "a = 289\n",
        "b = 43\n",
        "c = 83\n",
        "if a > b or a > c:\n",
        "  print(\"At least one of the conditions is True\")"
      ],
      "execution_count": 23,
      "outputs": [
        {
          "output_type": "stream",
          "name": "stdout",
          "text": [
            "At least one of the conditions is True\n"
          ]
        }
      ]
    },
    {
      "cell_type": "code",
      "metadata": {
        "colab": {
          "base_uri": "https://localhost:8080/"
        },
        "id": "QScrBjhsvhrV",
        "outputId": "44a95850-3d84-46f7-d79d-bbd77773aa31"
      },
      "source": [
        "x = 78\n",
        "\n",
        "if x > 11:\n",
        "  print(\"Above eleven,\")\n",
        "if x > 77:\n",
        "  print(\"and also above 77!\")\n",
        "else:\n",
        "  print(\"but not above 77\")"
      ],
      "execution_count": 26,
      "outputs": [
        {
          "output_type": "stream",
          "name": "stdout",
          "text": [
            "Above eleven,\n",
            "and also above 77!\n"
          ]
        }
      ]
    },
    {
      "cell_type": "code",
      "metadata": {
        "colab": {
          "base_uri": "https://localhost:8080/"
        },
        "id": "e5aPuDqQwae-",
        "outputId": "c7f8c247-5aa1-4993-aea7-d1a7fa523189"
      },
      "source": [
        "a = 44\n",
        "b = 71\n",
        "if b > a:\n",
        "  print(\"New World!\")"
      ],
      "execution_count": 27,
      "outputs": [
        {
          "output_type": "stream",
          "name": "stdout",
          "text": [
            "New World!\n"
          ]
        }
      ]
    },
    {
      "cell_type": "code",
      "metadata": {
        "id": "0QGY_XhNwsKS"
      },
      "source": [
        "a = 31\n",
        "b = 7\n",
        "\n",
        "if a > b:\n",
        "  pass"
      ],
      "execution_count": 29,
      "outputs": []
    }
  ]
}