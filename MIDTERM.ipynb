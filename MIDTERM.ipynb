{
  "nbformat": 4,
  "nbformat_minor": 0,
  "metadata": {
    "colab": {
      "name": "MIDTERM.ipynb",
      "provenance": [],
      "collapsed_sections": [],
      "authorship_tag": "ABX9TyOHykol7DjOJvnGFTcAHKPs",
      "include_colab_link": true
    },
    "kernelspec": {
      "name": "python3",
      "display_name": "Python 3"
    },
    "language_info": {
      "name": "python"
    }
  },
  "cells": [
    {
      "cell_type": "markdown",
      "metadata": {
        "id": "view-in-github",
        "colab_type": "text"
      },
      "source": [
        "<a href=\"https://colab.research.google.com/github/REMIEGIA/Remie-Gia-Venus-Pastor---Miss-M./blob/Miss-Evernight/MIDTERM.ipynb\" target=\"_parent\"><img src=\"https://colab.research.google.com/assets/colab-badge.svg\" alt=\"Open In Colab\"/></a>"
      ]
    },
    {
      "cell_type": "code",
      "metadata": {
        "colab": {
          "base_uri": "https://localhost:8080/"
        },
        "id": "en_THIDoMmDU",
        "outputId": "0947e1ac-a392-4a73-a9ab-7c51debe6d53"
      },
      "source": [
        "print (\"Welcome to this new world!\")"
      ],
      "execution_count": 1,
      "outputs": [
        {
          "output_type": "stream",
          "name": "stdout",
          "text": [
            "Welcome to this new world!\n"
          ]
        }
      ]
    },
    {
      "cell_type": "code",
      "metadata": {
        "colab": {
          "base_uri": "https://localhost:8080/"
        },
        "id": "SCYXVUPoMymT",
        "outputId": "8acf7a8b-8fd5-4563-84c7-2e1d5f6245a5"
      },
      "source": [
        "x = input('Show me your money')\n",
        "print(\"Thank you for your money\" + x)"
      ],
      "execution_count": 3,
      "outputs": [
        {
          "output_type": "stream",
          "name": "stdout",
          "text": [
            "Show me your money260\n",
            "Thank you for your money260\n"
          ]
        }
      ]
    },
    {
      "cell_type": "code",
      "metadata": {
        "colab": {
          "base_uri": "https://localhost:8080/"
        },
        "id": "4G5T8CgaNIWN",
        "outputId": "6f8b7a2c-d3a3-4549-cc4c-fa9fa9412cad"
      },
      "source": [
        "x = int (input(\"Show me your money\"))\n",
        "y = x + 349\n",
        "y"
      ],
      "execution_count": 4,
      "outputs": [
        {
          "name": "stdout",
          "output_type": "stream",
          "text": [
            "Show me your money550\n"
          ]
        },
        {
          "output_type": "execute_result",
          "data": {
            "text/plain": [
              "899"
            ]
          },
          "metadata": {},
          "execution_count": 4
        }
      ]
    },
    {
      "cell_type": "code",
      "metadata": {
        "colab": {
          "base_uri": "https://localhost:8080/"
        },
        "id": "x1mNnJjgNSIC",
        "outputId": "f2158378-f4a1-48d7-e4e0-646fe49a5624"
      },
      "source": [
        "a,b = eval(input(\"Please input two digits:\"))"
      ],
      "execution_count": 5,
      "outputs": [
        {
          "name": "stdout",
          "output_type": "stream",
          "text": [
            "Please input two digits:11, 18\n"
          ]
        }
      ]
    },
    {
      "cell_type": "code",
      "metadata": {
        "colab": {
          "base_uri": "https://localhost:8080/"
        },
        "id": "16aUW38jNZZT",
        "outputId": "83747666-68d7-4787-9aac-941ccc074101"
      },
      "source": [
        "a"
      ],
      "execution_count": 6,
      "outputs": [
        {
          "output_type": "execute_result",
          "data": {
            "text/plain": [
              "11"
            ]
          },
          "metadata": {},
          "execution_count": 6
        }
      ]
    },
    {
      "cell_type": "code",
      "metadata": {
        "colab": {
          "base_uri": "https://localhost:8080/"
        },
        "id": "RrivKDfNNat9",
        "outputId": "47ffa93e-48f5-4135-a955-8328f3f02508"
      },
      "source": [
        "b"
      ],
      "execution_count": 7,
      "outputs": [
        {
          "output_type": "execute_result",
          "data": {
            "text/plain": [
              "18"
            ]
          },
          "metadata": {},
          "execution_count": 7
        }
      ]
    },
    {
      "cell_type": "code",
      "metadata": {
        "colab": {
          "base_uri": "https://localhost:8080/"
        },
        "id": "TjCe70dnMfCO",
        "outputId": "0c0c425d-f0f4-4679-d9f2-83a3f906349d"
      },
      "source": [
        "a = 78\n",
        "b = 34\n",
        "if a > b:\n",
        "  print(\"a is greater than b\")"
      ],
      "execution_count": 8,
      "outputs": [
        {
          "output_type": "stream",
          "name": "stdout",
          "text": [
            "a is greater than b\n"
          ]
        }
      ]
    },
    {
      "cell_type": "markdown",
      "metadata": {
        "id": "tC_wyP0pP8Xg"
      },
      "source": [
        "#Arithmetic Operators\n"
      ]
    },
    {
      "cell_type": "code",
      "metadata": {
        "colab": {
          "base_uri": "https://localhost:8080/"
        },
        "id": "GYi1kNnjP_nf",
        "outputId": "725f470f-986f-4aa7-d72a-d1acbddcb0e6"
      },
      "source": [
        "a = 23 / 4\n",
        "a"
      ],
      "execution_count": 9,
      "outputs": [
        {
          "output_type": "execute_result",
          "data": {
            "text/plain": [
              "5.75"
            ]
          },
          "metadata": {},
          "execution_count": 9
        }
      ]
    },
    {
      "cell_type": "code",
      "metadata": {
        "colab": {
          "base_uri": "https://localhost:8080/"
        },
        "id": "qR8nMLe-QB4h",
        "outputId": "f8350784-9bbd-4e6d-d61f-cf7b7b510ae9"
      },
      "source": [
        "b = 23 // 4\n",
        "b"
      ],
      "execution_count": 10,
      "outputs": [
        {
          "output_type": "execute_result",
          "data": {
            "text/plain": [
              "5"
            ]
          },
          "metadata": {},
          "execution_count": 10
        }
      ]
    },
    {
      "cell_type": "code",
      "metadata": {
        "colab": {
          "base_uri": "https://localhost:8080/"
        },
        "id": "c1KoWwzsQDvR",
        "outputId": "f70f3c8e-1733-4692-f30e-5f4dee5f3ed0"
      },
      "source": [
        "c = 23 % 4\n",
        "c"
      ],
      "execution_count": 11,
      "outputs": [
        {
          "output_type": "execute_result",
          "data": {
            "text/plain": [
              "3"
            ]
          },
          "metadata": {},
          "execution_count": 11
        }
      ]
    },
    {
      "cell_type": "markdown",
      "metadata": {
        "id": "KfyqAlkxRkRz"
      },
      "source": [
        "#Logical Operations\n"
      ]
    },
    {
      "cell_type": "code",
      "metadata": {
        "colab": {
          "base_uri": "https://localhost:8080/"
        },
        "id": "zKi2CcMTRnLr",
        "outputId": "f1f9be81-4261-41c3-92b6-8a3969de392c"
      },
      "source": [
        "x = 12\n",
        "print(x > 7 and x < 19)"
      ],
      "execution_count": 12,
      "outputs": [
        {
          "output_type": "stream",
          "name": "stdout",
          "text": [
            "True\n"
          ]
        }
      ]
    },
    {
      "cell_type": "code",
      "metadata": {
        "colab": {
          "base_uri": "https://localhost:8080/"
        },
        "id": "98Bdj8D5Rpbn",
        "outputId": "736dd0bf-3f79-43c4-cfa9-8431aced2c3b"
      },
      "source": [
        "x = 12\n",
        "print(x > 7 and x > 19)"
      ],
      "execution_count": 13,
      "outputs": [
        {
          "output_type": "stream",
          "name": "stdout",
          "text": [
            "False\n"
          ]
        }
      ]
    },
    {
      "cell_type": "code",
      "metadata": {
        "id": "ay2jGvEpRr5C"
      },
      "source": [
        ""
      ],
      "execution_count": null,
      "outputs": []
    }
  ]
}