{
  "nbformat": 4,
  "nbformat_minor": 0,
  "metadata": {
    "colab": {
      "name": "102021",
      "provenance": [],
      "collapsed_sections": [],
      "authorship_tag": "ABX9TyM2dOQuDtjI507rTGIBTP/0",
      "include_colab_link": true
    },
    "kernelspec": {
      "name": "python3",
      "display_name": "Python 3"
    },
    "language_info": {
      "name": "python"
    }
  },
  "cells": [
    {
      "cell_type": "markdown",
      "metadata": {
        "id": "view-in-github",
        "colab_type": "text"
      },
      "source": [
        "<a href=\"https://colab.research.google.com/github/REMIEGIA/Remie-Gia-Venus-Pastor---Miss-M./blob/Miss-Evernight/102021.ipynb\" target=\"_parent\"><img src=\"https://colab.research.google.com/assets/colab-badge.svg\" alt=\"Open In Colab\"/></a>"
      ]
    },
    {
      "cell_type": "markdown",
      "metadata": {
        "id": "H_uMQM4la4mD"
      },
      "source": [
        "#DEF SUM"
      ]
    },
    {
      "cell_type": "code",
      "metadata": {
        "colab": {
          "base_uri": "https://localhost:8080/"
        },
        "id": "wm22N036NDKs",
        "outputId": "46487b56-bd15-4a6c-ca83-2116d75792d4"
      },
      "source": [
        "def sum(i1, i2):\n",
        "  result = 0\n",
        "  for i in range(i1, i2):\n",
        "    return result\n",
        "\n",
        "def main():\n",
        "    print(\"Sum from 1 to 15 is\", sum(1, 16))\n",
        "    print(\"Sum from 19 to 46 is\", sum(19, 47))\n",
        "    print(\"Sum from 50 to 76 is\", sum(50, 77))\n",
        "\n",
        "main() # Call the main function"
      ],
      "execution_count": 3,
      "outputs": [
        {
          "output_type": "stream",
          "name": "stdout",
          "text": [
            "Sum from 1 to 15 is 0\n",
            "Sum from 19 to 46 is 0\n",
            "Sum from 50 to 76 is 0\n"
          ]
        }
      ]
    },
    {
      "cell_type": "code",
      "metadata": {
        "colab": {
          "base_uri": "https://localhost:8080/"
        },
        "id": "2CSpzSvUPKv1",
        "outputId": "85769c3e-3442-4719-8592-dd0fc2c4b239"
      },
      "source": [
        "def sum(i1, i2, i3):\n",
        "    result = 0\n",
        "    for i in range(i1, i2, i3):\n",
        "        result += i\n",
        "    return result\n",
        "\n",
        "def main():\n",
        "    print(\"Sum from 1 to 15 is\", sum(1, 16, 1)) \n",
        "    print(\"Sum from 19 to 46 is\", sum(20, 47, 2))\n",
        "    print(\"Sum from 50 to 76 is\", sum(50, 78, 3))\n",
        "\n",
        "main() # Call the main function\n"
      ],
      "execution_count": 10,
      "outputs": [
        {
          "output_type": "stream",
          "name": "stdout",
          "text": [
            "Sum from 1 to 15 is 120\n",
            "Sum from 19 to 46 is 462\n",
            "Sum from 50 to 76 is 635\n"
          ]
        }
      ]
    },
    {
      "cell_type": "markdown",
      "metadata": {
        "id": "vmXwIJyia86E"
      },
      "source": [
        "#DEF SWAP"
      ]
    },
    {
      "cell_type": "code",
      "metadata": {
        "colab": {
          "base_uri": "https://localhost:8080/"
        },
        "id": "mOTfrKO6Q3i8",
        "outputId": "e1d0c894-63e9-478a-d948-5168e72a60dd"
      },
      "source": [
        "def swap(x,y):\n",
        "  x,y = y,x\n",
        "  return (x,y)\n",
        "\n",
        "if __name__ == '__main__':\n",
        "    x = 15\n",
        "    y = 26\n",
        "    print('x = %d,y = %d' % (x,y))\n",
        "    x,y = swap (x, y)\n",
        "    print('x = %d,y = %d' % (x,y))"
      ],
      "execution_count": 38,
      "outputs": [
        {
          "output_type": "stream",
          "name": "stdout",
          "text": [
            "x = 15,y = 26\n",
            "x = 26,y = 15\n"
          ]
        }
      ]
    },
    {
      "cell_type": "markdown",
      "metadata": {
        "id": "ca7BNiNabD1h"
      },
      "source": [
        "#DEF SORT"
      ]
    },
    {
      "cell_type": "code",
      "metadata": {
        "colab": {
          "base_uri": "https://localhost:8080/"
        },
        "id": "OoEYWPDDXSFF",
        "outputId": "9a5f2e4b-b460-4d89-eccb-3b3d6f8b2b88"
      },
      "source": [
        "def sort(number1, number2, number3):\n",
        "   if (number1 < number2) and (number1 < number3):\n",
        "        if number2 < number3:\n",
        "            return number1, number2, number3\n",
        "        else:\n",
        "            return number1, number3,number2\n",
        "        if (number2 < number1) and (number2 < number3):\n",
        "          if number1 < number3:\n",
        "              return number2, number1,number3\n",
        "        else:\n",
        "          return number2, number3,number1\n",
        "        if (number3 < number1) and (number3 < number2):\n",
        "          if number1 < number2:\n",
        "            return number3, number1,number2\n",
        "        else:\n",
        "          return number3, number2,number1\n",
        "\n",
        "num1, num2, num3 = sort(27,35,28)\n",
        "\n",
        "print(\"num1 is\", num1)\n",
        "print(\"num2 is\", num2)\n",
        "print(\"num2 is\", num3)"
      ],
      "execution_count": 72,
      "outputs": [
        {
          "output_type": "stream",
          "name": "stdout",
          "text": [
            "num1 is 27\n",
            "num2 is 28\n",
            "num2 is 35\n"
          ]
        }
      ]
    },
    {
      "cell_type": "markdown",
      "metadata": {
        "id": "SvtG5wn4fcDs"
      },
      "source": [
        "#Default Positional arguments Keyword arguments"
      ]
    },
    {
      "cell_type": "code",
      "metadata": {
        "id": "RrKMRJF8fshv"
      },
      "source": [
        "#!/usr/bin/python \n",
        "# -*- coding: UTF-8 -*- \n",
        "\n",
        "def printArea(width = 18, height = 16):\n",
        "    area = width * height\n",
        "    print(\"width:\", width, \"\\theight:\", height, \"\\tarea:\", area)"
      ],
      "execution_count": 106,
      "outputs": []
    },
    {
      "cell_type": "markdown",
      "metadata": {
        "id": "Z3N3EnaHgMFt"
      },
      "source": [
        "#Default arguments"
      ]
    },
    {
      "cell_type": "code",
      "metadata": {
        "colab": {
          "base_uri": "https://localhost:8080/"
        },
        "id": "QIuVD8NWgFkk",
        "outputId": "67b9c41d-2678-496e-8ede-fc4617f547d7"
      },
      "source": [
        "printArea()"
      ],
      "execution_count": 97,
      "outputs": [
        {
          "output_type": "stream",
          "name": "stdout",
          "text": [
            "width: 18 \theight: 16 \tarea: 288\n"
          ]
        }
      ]
    },
    {
      "cell_type": "markdown",
      "metadata": {
        "id": "mT38oX2IgS8D"
      },
      "source": [
        "#Keyword arguments"
      ]
    },
    {
      "cell_type": "code",
      "metadata": {
        "colab": {
          "base_uri": "https://localhost:8080/"
        },
        "id": "s88-sOebgV_n",
        "outputId": "845d4c7f-17a0-45f8-b4e2-8e8dcad0fdc8"
      },
      "source": [
        "printArea(width = 16, height = 14)"
      ],
      "execution_count": 98,
      "outputs": [
        {
          "output_type": "stream",
          "name": "stdout",
          "text": [
            "width: 16 \theight: 14 \tarea: 224\n"
          ]
        }
      ]
    },
    {
      "cell_type": "code",
      "metadata": {
        "colab": {
          "base_uri": "https://localhost:8080/"
        },
        "id": "5MWPqzbYgiPU",
        "outputId": "9807536e-45a0-4087-d0e2-1885f69f4c15"
      },
      "source": [
        "printArea(height = 14, width = 16)"
      ],
      "execution_count": 92,
      "outputs": [
        {
          "output_type": "stream",
          "name": "stdout",
          "text": [
            "width: 16 \theight: 14 \tarea: 224\n"
          ]
        }
      ]
    },
    {
      "cell_type": "markdown",
      "metadata": {
        "id": "jSJbro6lgo-A"
      },
      "source": [
        "#Positional arguments"
      ]
    },
    {
      "cell_type": "code",
      "metadata": {
        "colab": {
          "base_uri": "https://localhost:8080/"
        },
        "id": "GApuPkaxgqDm",
        "outputId": "40b41fe1-472b-4d96-eae9-37d003880149"
      },
      "source": [
        "printArea(16,14)"
      ],
      "execution_count": 93,
      "outputs": [
        {
          "output_type": "stream",
          "name": "stdout",
          "text": [
            "width: 16 \theight: 14 \tarea: 224\n"
          ]
        }
      ]
    },
    {
      "cell_type": "code",
      "metadata": {
        "colab": {
          "base_uri": "https://localhost:8080/"
        },
        "id": "Xqof7gAQgyva",
        "outputId": "f7fab1ed-3912-4c90-eee9-c48ab4444696"
      },
      "source": [
        "printArea(14,16)"
      ],
      "execution_count": 94,
      "outputs": [
        {
          "output_type": "stream",
          "name": "stdout",
          "text": [
            "width: 14 \theight: 16 \tarea: 224\n"
          ]
        }
      ]
    },
    {
      "cell_type": "markdown",
      "metadata": {
        "id": "Jvfi8P8NiX41"
      },
      "source": [
        "#Lambda Function"
      ]
    },
    {
      "cell_type": "code",
      "metadata": {
        "colab": {
          "base_uri": "https://localhost:8080/"
        },
        "id": "zLOEM7Hmi2Fl",
        "outputId": "28cca004-abbc-499c-c4a9-2557f0289b2a"
      },
      "source": [
        "f1 = lambda x, y, z: x+5*y+6*z\n",
        "print(f1(2,3,1))"
      ],
      "execution_count": 108,
      "outputs": [
        {
          "output_type": "stream",
          "name": "stdout",
          "text": [
            "23\n"
          ]
        }
      ]
    },
    {
      "cell_type": "code",
      "metadata": {
        "colab": {
          "base_uri": "https://localhost:8080/"
        },
        "id": "LWtXsT-ojoyx",
        "outputId": "889df3dd-8514-4295-895a-0fe43f2ad73b"
      },
      "source": [
        "def myfunc(m): \n",
        "  return m*m \n",
        "  \n",
        "my_list = [11, 14, 17, 19, 25]\n",
        "  \n",
        "## 使用python的map() \n",
        "   \n",
        "print(list(map(lambda x:myfunc(x), my_list)))\n"
      ],
      "execution_count": 117,
      "outputs": [
        {
          "output_type": "stream",
          "name": "stdout",
          "text": [
            "[121, 196, 289, 361, 625]\n"
          ]
        }
      ]
    }
  ]
}